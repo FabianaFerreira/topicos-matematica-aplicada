{
 "cells": [
  {
   "cell_type": "code",
   "execution_count": null,
   "metadata": {},
   "outputs": [],
   "source": [
    "#-----------------------------------------------------------------------------\n",
    "# UFRJ - Universidade Federal do Rio de Janeiro\n",
    "#   IM - Instituto de Matematica\n",
    "#  DMA - Departamento de Matematica Aplicada\n",
    "#\n",
    "# TMAA - MAE 353 - Programacao I\n",
    "#\n",
    "# Teste 2 - 18 de junho de 2019\n",
    "#\n",
    "# Aluna: Fabiana Ferreira 115037241\n",
    "# Aluna: Jackeline Carvalho 116043481\n",
    "# Aluna: Julia Brito 117050512\n",
    "# Aluno: Lucas Galdino 119039091\n",
    "#------------------"
   ]
  },
  {
   "cell_type": "code",
   "execution_count": 5,
   "metadata": {},
   "outputs": [],
   "source": [
    "import csv"
   ]
  },
  {
   "cell_type": "code",
   "execution_count": 28,
   "metadata": {},
   "outputs": [],
   "source": [
    "with open(\"./perfil_eleitorado_ATUAL.txt\", encoding='latin-1') as arq:\n",
    "    result = {}\n",
    "    dados = csv.reader(arq, delimiter=';')\n",
    "    for line in dados:\n",
    "        key = line[1]\n",
    "        if key not in result:\n",
    "            result[key] = int(line[8])\n",
    "        else:\n",
    "            result[key] += int(line[8])"
   ]
  },
  {
   "cell_type": "code",
   "execution_count": null,
   "metadata": {},
   "outputs": [],
   "source": [
    "#Printing dict\n",
    "print (result)"
   ]
  },
  {
   "cell_type": "code",
   "execution_count": 29,
   "metadata": {},
   "outputs": [
    {
     "name": "stdout",
     "output_type": "stream",
     "text": [
      "AC: 531932\n",
      "AL: 2150512\n",
      "AM: 2386014\n",
      "AP: 497196\n",
      "BA: 10022940\n",
      "CE: 6279004\n",
      "DF: 2046385\n",
      "ES: 2754888\n",
      "GO: 4366316\n",
      "MA: 4508213\n",
      "MG: 15752658\n",
      "MS: 1916068\n",
      "MT: 2305231\n",
      "PA: 5608994\n",
      "PB: 2811733\n",
      "PE: 6609210\n",
      "PI: 2346760\n",
      "PR: 7922898\n",
      "RJ: 12383172\n",
      "RN: 2385419\n",
      "RO: 1152335\n",
      "RR: 331005\n",
      "RS: 8310888\n",
      "SC: 4998877\n",
      "SE: 1550463\n",
      "SP: 33058256\n",
      "TO: 1014390\n",
      "ZZ: 466015\n"
     ]
    }
   ],
   "source": [
    "#Printing in a better way\n",
    "for key, value in result.items():\n",
    "    print (key + ': ' + str(value))"
   ]
  }
 ],
 "metadata": {
  "kernelspec": {
   "display_name": "Python 3",
   "language": "python",
   "name": "python3"
  },
  "language_info": {
   "codemirror_mode": {
    "name": "ipython",
    "version": 3
   },
   "file_extension": ".py",
   "mimetype": "text/x-python",
   "name": "python",
   "nbconvert_exporter": "python",
   "pygments_lexer": "ipython3",
   "version": "3.6.6"
  }
 },
 "nbformat": 4,
 "nbformat_minor": 2
}
